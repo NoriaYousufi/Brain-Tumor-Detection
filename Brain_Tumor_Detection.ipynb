{
  "nbformat": 4,
  "nbformat_minor": 0,
  "metadata": {
    "colab": {
      "provenance": [],
      "mount_file_id": "1VV4SxDlw5e3CIwWJwHUAmSUq0hUx44WU",
      "authorship_tag": "ABX9TyPDJpiKtzjhwGT7noHD/9GP",
      "include_colab_link": true
    },
    "kernelspec": {
      "name": "python3",
      "display_name": "Python 3"
    },
    "language_info": {
      "name": "python"
    }
  },
  "cells": [
    {
      "cell_type": "markdown",
      "metadata": {
        "id": "view-in-github",
        "colab_type": "text"
      },
      "source": [
        "<a href=\"https://colab.research.google.com/github/NoriaYousufi/Brain-Tumor-Detection/blob/main/Brain_Tumor_Detection.ipynb\" target=\"_parent\"><img src=\"https://colab.research.google.com/assets/colab-badge.svg\" alt=\"Open In Colab\"/></a>"
      ]
    },
    {
      "cell_type": "markdown",
      "source": [
        "###Import Libaries"
      ],
      "metadata": {
        "id": "7HdY5AdqG40W"
      }
    },
    {
      "cell_type": "code",
      "source": [
        "import numpy as np\n",
        "import matplotlib.pyplot as plt\n",
        "import cv2\n",
        "import os\n",
        "import tensorflow as tf\n",
        "from PIL import Image\n",
        "\n",
        "from sklearn.model_selection import train_test_split\n",
        "\n",
        "from keras.utils import normalize, to_categorical\n",
        "from keras.models import Sequential, load_model\n",
        "from keras.layers import Conv2D, MaxPooling2D, Activation, Dropout, Flatten, Dense"
      ],
      "metadata": {
        "id": "ihnBI-saHeg7"
      },
      "execution_count": 8,
      "outputs": []
    },
    {
      "cell_type": "markdown",
      "source": [
        "###Load the data"
      ],
      "metadata": {
        "id": "EP1-sa3HHDCf"
      }
    },
    {
      "cell_type": "code",
      "source": [
        "image_directory='/content/drive/MyDrive/Datasets'\n",
        "no_tumor_images=os.listdir(image_directory+ '/no')\n",
        "yes_tumor_images=os.listdir(image_directory+ '/yes')\n",
        "\n",
        "print('No Tumor: ', len(no_tumor_images))\n",
        "print('Tumor: ',len(yes_tumor_images))"
      ],
      "metadata": {
        "id": "prX1z7LmA0gI",
        "colab": {
          "base_uri": "https://localhost:8080/"
        },
        "outputId": "5a7d8d43-0914-43e4-9fcc-3365a1d42e63"
      },
      "execution_count": 9,
      "outputs": [
        {
          "output_type": "stream",
          "name": "stdout",
          "text": [
            "No Tumor:  1500\n",
            "Tumor:  1500\n"
          ]
        }
      ]
    },
    {
      "cell_type": "markdown",
      "source": [
        "###Splitting training and test data"
      ],
      "metadata": {
        "id": "YucutsAgHIAk"
      }
    },
    {
      "cell_type": "code",
      "source": [],
      "metadata": {
        "id": "IiabgluVA1hy"
      },
      "execution_count": null,
      "outputs": []
    },
    {
      "cell_type": "markdown",
      "source": [
        "###CNN model"
      ],
      "metadata": {
        "id": "cShwBXFpHTqR"
      }
    },
    {
      "cell_type": "code",
      "source": [],
      "metadata": {
        "id": "4iX02D1VHS1u"
      },
      "execution_count": null,
      "outputs": []
    },
    {
      "cell_type": "code",
      "execution_count": null,
      "metadata": {
        "id": "2VMHU7cvGIrl"
      },
      "outputs": [],
      "source": []
    }
  ]
}