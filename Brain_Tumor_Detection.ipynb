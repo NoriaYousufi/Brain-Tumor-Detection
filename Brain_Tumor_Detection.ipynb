{
  "nbformat": 4,
  "nbformat_minor": 0,
  "metadata": {
    "colab": {
      "provenance": [],
      "mount_file_id": "1VV4SxDlw5e3CIwWJwHUAmSUq0hUx44WU",
      "authorship_tag": "ABX9TyOyR7VUgXB5hUuXyyeVivFy",
      "include_colab_link": true
    },
    "kernelspec": {
      "name": "python3",
      "display_name": "Python 3"
    },
    "language_info": {
      "name": "python"
    }
  },
  "cells": [
    {
      "cell_type": "markdown",
      "metadata": {
        "id": "view-in-github",
        "colab_type": "text"
      },
      "source": [
        "<a href=\"https://colab.research.google.com/github/NoriaYousufi/Brain-Tumor-Detection/blob/main/Brain_Tumor_Detection.ipynb\" target=\"_parent\"><img src=\"https://colab.research.google.com/assets/colab-badge.svg\" alt=\"Open In Colab\"/></a>"
      ]
    },
    {
      "cell_type": "markdown",
      "source": [
        "###Import Libaries"
      ],
      "metadata": {
        "id": "7HdY5AdqG40W"
      }
    },
    {
      "cell_type": "code",
      "source": [
        "import numpy as np\n",
        "import matplotlib.pyplot as plt\n",
        "import cv2\n",
        "import os\n",
        "import tensorflow as tf\n",
        "from PIL import Image\n",
        "\n",
        "from sklearn.model_selection import train_test_split\n",
        "\n",
        "from keras.utils import normalize, to_categorical\n",
        "from keras.models import Sequential, load_model\n",
        "from keras.layers import Conv2D, MaxPooling2D, Activation, Dropout, Flatten, Dense"
      ],
      "metadata": {
        "id": "ihnBI-saHeg7"
      },
      "execution_count": 1,
      "outputs": []
    },
    {
      "cell_type": "markdown",
      "source": [
        "###Load the data"
      ],
      "metadata": {
        "id": "EP1-sa3HHDCf"
      }
    },
    {
      "cell_type": "code",
      "source": [
        "image_directory='/content/drive/MyDrive/Datasets'\n",
        "no_tumor_images=os.listdir(image_directory+ '/no')\n",
        "yes_tumor_images=os.listdir(image_directory+ '/yes')\n",
        "\n",
        "print('No Tumor: ', len(no_tumor_images))\n",
        "print('Tumor: ',len(yes_tumor_images))"
      ],
      "metadata": {
        "id": "prX1z7LmA0gI",
        "colab": {
          "base_uri": "https://localhost:8080/"
        },
        "outputId": "27c93f77-f6ce-4c42-d747-5cd249ac1366"
      },
      "execution_count": 2,
      "outputs": [
        {
          "output_type": "stream",
          "name": "stdout",
          "text": [
            "No Tumor:  1500\n",
            "Tumor:  1500\n"
          ]
        }
      ]
    },
    {
      "cell_type": "code",
      "source": [
        "dataset = []\n",
        "label = []\n",
        "INPUT_SIZE = 64"
      ],
      "metadata": {
        "id": "kGtMQpmunNlv"
      },
      "execution_count": 3,
      "outputs": []
    },
    {
      "cell_type": "code",
      "source": [
        "# Seperate images\n",
        "# No tumor\n",
        "for i, image_name in enumerate(no_tumor_images):\n",
        "    if image_name.split('.')[-1].lower() == 'jpg':\n",
        "        image_path = os.path.join(image_directory, 'no', image_name)\n",
        "        image = cv2.imread(image_path)\n",
        "\n",
        "        if image is None:\n",
        "            print(f\"Error loading image: {image_path}\")\n",
        "            continue  # Skip to the next image\n",
        "\n",
        "        image = Image.fromarray(image, 'RGB')\n",
        "        image = image.resize((INPUT_SIZE, INPUT_SIZE))\n",
        "        dataset.append(np.array(image))\n",
        "        label.append(0)  # Assuming 0 represents images without tumors\n"
      ],
      "metadata": {
        "id": "STC4Kvxjfp8V"
      },
      "execution_count": 4,
      "outputs": []
    },
    {
      "cell_type": "code",
      "source": [
        "for i, image_name in enumerate(yes_tumor_images):\n",
        "    if image_name.split('.')[-1].lower() == 'jpg':\n",
        "        image_path = os.path.join(image_directory, 'yes', image_name)\n",
        "        image = cv2.imread(image_path)\n",
        "\n",
        "        if image is None:\n",
        "            print(f\"Error loading image: {image_path}\")\n",
        "            continue  # Skip to the next image\n",
        "\n",
        "        image = Image.fromarray(image, 'RGB')\n",
        "        image = image.resize((INPUT_SIZE, INPUT_SIZE))\n",
        "        dataset.append(np.array(image))\n",
        "        label.append(1)  # Assuming 1 represents images with tumors\n"
      ],
      "metadata": {
        "id": "2yph4Tran7rn"
      },
      "execution_count": 5,
      "outputs": []
    },
    {
      "cell_type": "code",
      "source": [
        "print(len(dataset))\n",
        "print(len(label))"
      ],
      "metadata": {
        "colab": {
          "base_uri": "https://localhost:8080/"
        },
        "id": "s--Kv2yGrJyY",
        "outputId": "6996d948-1a75-40b7-a25e-2726d0aa4f0f"
      },
      "execution_count": 6,
      "outputs": [
        {
          "output_type": "stream",
          "name": "stdout",
          "text": [
            "3000\n",
            "3000\n"
          ]
        }
      ]
    },
    {
      "cell_type": "code",
      "source": [
        "dataset = np.array(dataset)\n",
        "label = np.array(label)"
      ],
      "metadata": {
        "id": "10Urytwown6P"
      },
      "execution_count": 7,
      "outputs": []
    },
    {
      "cell_type": "markdown",
      "source": [
        "###Splitting training and test data"
      ],
      "metadata": {
        "id": "YucutsAgHIAk"
      }
    },
    {
      "cell_type": "code",
      "source": [
        "x_train, x_test, y_train, y_test = train_test_split(dataset, label, test_size=0.2, random_state=0)"
      ],
      "metadata": {
        "id": "IiabgluVA1hy"
      },
      "execution_count": 8,
      "outputs": []
    },
    {
      "cell_type": "code",
      "source": [
        "print(x_train.shape)\n",
        "print(y_train.shape)"
      ],
      "metadata": {
        "colab": {
          "base_uri": "https://localhost:8080/"
        },
        "id": "Y8tCzZzkxWf6",
        "outputId": "3345ce49-a392-48b2-f56b-1e07de2d6615"
      },
      "execution_count": 9,
      "outputs": [
        {
          "output_type": "stream",
          "name": "stdout",
          "text": [
            "(2400, 64, 64, 3)\n",
            "(2400,)\n"
          ]
        }
      ]
    },
    {
      "cell_type": "code",
      "source": [
        "print(x_test.shape)\n",
        "print(y_test.shape)"
      ],
      "metadata": {
        "colab": {
          "base_uri": "https://localhost:8080/"
        },
        "id": "omxHp7P0SyMq",
        "outputId": "b4ce8457-4aa7-42a8-eacd-25cf3ea750fc"
      },
      "execution_count": 10,
      "outputs": [
        {
          "output_type": "stream",
          "name": "stdout",
          "text": [
            "(600, 64, 64, 3)\n",
            "(600,)\n"
          ]
        }
      ]
    },
    {
      "cell_type": "markdown",
      "source": [
        "###Normalize data"
      ],
      "metadata": {
        "id": "WJfFLqh7TUWF"
      }
    },
    {
      "cell_type": "code",
      "source": [
        "x_train=normalize(x_train, axis=1)\n",
        "x_test=normalize(x_test, axis=1)"
      ],
      "metadata": {
        "id": "mw8cs-LGTaOC"
      },
      "execution_count": 11,
      "outputs": []
    },
    {
      "cell_type": "markdown",
      "source": [
        "###CNN model"
      ],
      "metadata": {
        "id": "cShwBXFpHTqR"
      }
    },
    {
      "cell_type": "code",
      "source": [
        "model = Sequential()\n",
        "model.add(Conv2D(32, (3,3), input_shape=(INPUT_SIZE, INPUT_SIZE, 3)))\n",
        "model.add(Activation('relu'))\n",
        "model.add(MaxPooling2D(pool_size=(2,2)))\n",
        "\n",
        "model.add(Conv2D(32, (3,3), kernel_initializer='he_uniform'))\n",
        "model.add(Activation('relu'))\n",
        "model.add(MaxPooling2D(pool_size=(2,2)))\n",
        "\n",
        "model.add(Conv2D(64, (3,3), kernel_initializer='he_uniform'))\n",
        "model.add(Activation('relu'))\n",
        "model.add(MaxPooling2D(pool_size=(2,2)))"
      ],
      "metadata": {
        "id": "4iX02D1VHS1u"
      },
      "execution_count": 12,
      "outputs": []
    },
    {
      "cell_type": "code",
      "execution_count": 13,
      "metadata": {
        "id": "2VMHU7cvGIrl"
      },
      "outputs": [],
      "source": [
        "model.add(Flatten())\n",
        "model.add(Dense(64))\n",
        "model.add(Activation('relu'))\n",
        "model.add(Dropout(0.5))\n",
        "model.add(Dense(1))\n",
        "model.add(Activation('sigmoid'))"
      ]
    },
    {
      "cell_type": "code",
      "source": [
        "model.compile(loss='binary_crossentropy', optimizer='adam', metrics=['accuracy'])"
      ],
      "metadata": {
        "id": "pWbs-4nBW1Qf"
      },
      "execution_count": 15,
      "outputs": []
    },
    {
      "cell_type": "code",
      "source": [
        "model.fit(x_train, y_train,\n",
        "    batch_size=16,\n",
        "    verbose=1,\n",
        "    epochs=10,\n",
        "    validation_data=(x_test, y_test),\n",
        "    shuffle=False)"
      ],
      "metadata": {
        "colab": {
          "base_uri": "https://localhost:8080/"
        },
        "id": "uhEnMPbKTi9C",
        "outputId": "fc88efd1-1526-4e62-803e-0702d91e0ff2"
      },
      "execution_count": 16,
      "outputs": [
        {
          "output_type": "stream",
          "name": "stdout",
          "text": [
            "Epoch 1/10\n",
            "150/150 [==============================] - 17s 103ms/step - loss: 0.5561 - accuracy: 0.7233 - val_loss: 0.4376 - val_accuracy: 0.8317\n",
            "Epoch 2/10\n",
            "150/150 [==============================] - 15s 98ms/step - loss: 0.4140 - accuracy: 0.8221 - val_loss: 0.3351 - val_accuracy: 0.8533\n",
            "Epoch 3/10\n",
            "150/150 [==============================] - 15s 101ms/step - loss: 0.2940 - accuracy: 0.8763 - val_loss: 0.2787 - val_accuracy: 0.8850\n",
            "Epoch 4/10\n",
            "150/150 [==============================] - 15s 101ms/step - loss: 0.2238 - accuracy: 0.9208 - val_loss: 0.2095 - val_accuracy: 0.9300\n",
            "Epoch 5/10\n",
            "150/150 [==============================] - 26s 173ms/step - loss: 0.1530 - accuracy: 0.9525 - val_loss: 0.1558 - val_accuracy: 0.9483\n",
            "Epoch 6/10\n",
            "150/150 [==============================] - 15s 102ms/step - loss: 0.1027 - accuracy: 0.9650 - val_loss: 0.1579 - val_accuracy: 0.9433\n",
            "Epoch 7/10\n",
            "150/150 [==============================] - 15s 101ms/step - loss: 0.0777 - accuracy: 0.9771 - val_loss: 0.1155 - val_accuracy: 0.9717\n",
            "Epoch 8/10\n",
            "150/150 [==============================] - 15s 102ms/step - loss: 0.0489 - accuracy: 0.9850 - val_loss: 0.1125 - val_accuracy: 0.9667\n",
            "Epoch 9/10\n",
            "150/150 [==============================] - 15s 102ms/step - loss: 0.0411 - accuracy: 0.9854 - val_loss: 0.1137 - val_accuracy: 0.9683\n",
            "Epoch 10/10\n",
            "150/150 [==============================] - 15s 102ms/step - loss: 0.0268 - accuracy: 0.9925 - val_loss: 0.0984 - val_accuracy: 0.9767\n"
          ]
        },
        {
          "output_type": "execute_result",
          "data": {
            "text/plain": [
              "<keras.callbacks.History at 0x79bdc1f8b640>"
            ]
          },
          "metadata": {},
          "execution_count": 16
        }
      ]
    },
    {
      "cell_type": "code",
      "source": [
        "model.save('BrainTumor10Epochs.h5')"
      ],
      "metadata": {
        "id": "i5WrUSQZXDF3"
      },
      "execution_count": 17,
      "outputs": []
    },
    {
      "cell_type": "markdown",
      "source": [
        "###Test on prediction set"
      ],
      "metadata": {
        "id": "-rdKFivTXzW6"
      }
    },
    {
      "cell_type": "code",
      "source": [
        "import cv2\n",
        "from keras.models import load_model\n",
        "from PIL import Image\n",
        "import numpy as np"
      ],
      "metadata": {
        "id": "ZrPZx84iX2CX"
      },
      "execution_count": 29,
      "outputs": []
    },
    {
      "cell_type": "code",
      "source": [
        "model = load_model('/content/BrainTumor10Epochs.h5')"
      ],
      "metadata": {
        "id": "5uJjB5TvYDhs"
      },
      "execution_count": 30,
      "outputs": []
    },
    {
      "cell_type": "code",
      "source": [
        "image = cv2.imread('/content/drive/MyDrive/Datasets/pred/pred2.jpg')\n",
        "img = Image.fromarray(image)\n",
        "img = img.resize((64,64))\n",
        "img = np.array(img)\n",
        "input_img = np.expand_dims(img, axis=0)\n",
        "result = model.predict(input_img)\n",
        "print(result)"
      ],
      "metadata": {
        "colab": {
          "base_uri": "https://localhost:8080/"
        },
        "id": "6fIrVlHDYVVp",
        "outputId": "c7133e0e-24be-4add-ca04-828a72ccdad3"
      },
      "execution_count": 35,
      "outputs": [
        {
          "output_type": "stream",
          "name": "stdout",
          "text": [
            "1/1 [==============================] - 0s 24ms/step\n",
            "[[0.]]\n"
          ]
        }
      ]
    }
  ]
}