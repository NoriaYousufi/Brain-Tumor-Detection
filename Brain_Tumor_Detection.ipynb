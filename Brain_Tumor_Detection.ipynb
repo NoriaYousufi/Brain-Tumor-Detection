{
  "nbformat": 4,
  "nbformat_minor": 0,
  "metadata": {
    "colab": {
      "provenance": [],
      "mount_file_id": "1VV4SxDlw5e3CIwWJwHUAmSUq0hUx44WU",
      "authorship_tag": "ABX9TyP5BLcTp3iOO4NjRqPaCHei",
      "include_colab_link": true
    },
    "kernelspec": {
      "name": "python3",
      "display_name": "Python 3"
    },
    "language_info": {
      "name": "python"
    }
  },
  "cells": [
    {
      "cell_type": "markdown",
      "metadata": {
        "id": "view-in-github",
        "colab_type": "text"
      },
      "source": [
        "<a href=\"https://colab.research.google.com/github/NoriaYousufi/Brain-Tumor-Detection/blob/main/Brain_Tumor_Detection.ipynb\" target=\"_parent\"><img src=\"https://colab.research.google.com/assets/colab-badge.svg\" alt=\"Open In Colab\"/></a>"
      ]
    },
    {
      "cell_type": "markdown",
      "source": [
        "###Import Libaries"
      ],
      "metadata": {
        "id": "7HdY5AdqG40W"
      }
    },
    {
      "cell_type": "code",
      "source": [
        "import numpy as np\n",
        "import matplotlib.pyplot as plt\n",
        "import cv2\n",
        "import os\n",
        "import tensorflow as tf\n",
        "from PIL import Image\n",
        "\n",
        "from sklearn.model_selection import train_test_split\n",
        "\n",
        "from keras.utils import normalize, to_categorical\n",
        "from keras.models import Sequential, load_model\n",
        "from keras.layers import Conv2D, MaxPooling2D, Activation, Dropout, Flatten, Dense"
      ],
      "metadata": {
        "id": "ihnBI-saHeg7"
      },
      "execution_count": 2,
      "outputs": []
    },
    {
      "cell_type": "markdown",
      "source": [
        "###Load the data"
      ],
      "metadata": {
        "id": "EP1-sa3HHDCf"
      }
    },
    {
      "cell_type": "code",
      "source": [
        "image_directory='/content/drive/MyDrive/Datasets'\n",
        "no_tumor_images=os.listdir(image_directory+ '/no')\n",
        "yes_tumor_images=os.listdir(image_directory+ '/yes')\n",
        "\n",
        "print('No Tumor: ', len(no_tumor_images))\n",
        "print('Tumor: ',len(yes_tumor_images))"
      ],
      "metadata": {
        "id": "prX1z7LmA0gI",
        "colab": {
          "base_uri": "https://localhost:8080/"
        },
        "outputId": "17a98d2f-488a-452e-8483-472c2a329e52"
      },
      "execution_count": 3,
      "outputs": [
        {
          "output_type": "stream",
          "name": "stdout",
          "text": [
            "No Tumor:  1500\n",
            "Tumor:  1500\n"
          ]
        }
      ]
    },
    {
      "cell_type": "code",
      "source": [
        "dataset = []\n",
        "label = []\n",
        "INPUT_SIZE = 64"
      ],
      "metadata": {
        "id": "kGtMQpmunNlv"
      },
      "execution_count": 15,
      "outputs": []
    },
    {
      "cell_type": "code",
      "source": [
        "# Seperate images\n",
        "# No tumor\n",
        "for i, image_name in enumerate(no_tumor_images):\n",
        "    if image_name.split('.')[-1].lower() == 'jpg':\n",
        "        image_path = os.path.join(image_directory, 'no', image_name)\n",
        "        image = cv2.imread(image_path)\n",
        "\n",
        "        if image is None:\n",
        "            print(f\"Error loading image: {image_path}\")\n",
        "            continue  # Skip to the next image\n",
        "\n",
        "        image = Image.fromarray(image, 'RGB')\n",
        "        image = image.resize((INPUT_SIZE, INPUT_SIZE))\n",
        "        dataset.append(np.array(image))\n",
        "        label.append(0)  # Assuming 0 represents images without tumors\n"
      ],
      "metadata": {
        "id": "STC4Kvxjfp8V"
      },
      "execution_count": 16,
      "outputs": []
    },
    {
      "cell_type": "code",
      "source": [
        "for i, image_name in enumerate(yes_tumor_images):\n",
        "    if image_name.split('.')[-1].lower() == 'jpg':\n",
        "        image_path = os.path.join(image_directory, 'yes', image_name)\n",
        "        image = cv2.imread(image_path)\n",
        "\n",
        "        if image is None:\n",
        "            print(f\"Error loading image: {image_path}\")\n",
        "            continue  # Skip to the next image\n",
        "\n",
        "        image = Image.fromarray(image, 'RGB')\n",
        "        image = image.resize((INPUT_SIZE, INPUT_SIZE))\n",
        "        dataset.append(np.array(image))\n",
        "        label.append(1)  # Assuming 1 represents images with tumors\n"
      ],
      "metadata": {
        "id": "2yph4Tran7rn"
      },
      "execution_count": 17,
      "outputs": []
    },
    {
      "cell_type": "code",
      "source": [
        "print(len(dataset))\n",
        "print(len(label))"
      ],
      "metadata": {
        "colab": {
          "base_uri": "https://localhost:8080/"
        },
        "id": "s--Kv2yGrJyY",
        "outputId": "f68e24a3-52d2-4f2a-aabf-9a8b6e5258b3"
      },
      "execution_count": 18,
      "outputs": [
        {
          "output_type": "stream",
          "name": "stdout",
          "text": [
            "3000\n",
            "3000\n"
          ]
        }
      ]
    },
    {
      "cell_type": "code",
      "source": [
        "dataset = np.array(dataset)\n",
        "label = np.array(label)"
      ],
      "metadata": {
        "id": "10Urytwown6P"
      },
      "execution_count": 19,
      "outputs": []
    },
    {
      "cell_type": "markdown",
      "source": [
        "###Splitting training and test data"
      ],
      "metadata": {
        "id": "YucutsAgHIAk"
      }
    },
    {
      "cell_type": "code",
      "source": [
        "x_train, x_test, y_train, y_test = train_test_split(dataset, label, test_size=0.2, random_state=0)"
      ],
      "metadata": {
        "id": "IiabgluVA1hy"
      },
      "execution_count": 20,
      "outputs": []
    },
    {
      "cell_type": "code",
      "source": [
        "print(x_train.shape)\n",
        "print(y_train.shape)"
      ],
      "metadata": {
        "colab": {
          "base_uri": "https://localhost:8080/"
        },
        "id": "Y8tCzZzkxWf6",
        "outputId": "87cc8e72-9aa2-4914-a63e-739b36fa7be9"
      },
      "execution_count": 21,
      "outputs": [
        {
          "output_type": "stream",
          "name": "stdout",
          "text": [
            "(2400, 64, 64, 3)\n",
            "(2400,)\n"
          ]
        }
      ]
    },
    {
      "cell_type": "code",
      "source": [
        "print(x_test.shape)\n",
        "print(y_test.shape)"
      ],
      "metadata": {
        "colab": {
          "base_uri": "https://localhost:8080/"
        },
        "id": "omxHp7P0SyMq",
        "outputId": "6a911dde-d27c-4340-9107-a121fca2d2a4"
      },
      "execution_count": 22,
      "outputs": [
        {
          "output_type": "stream",
          "name": "stdout",
          "text": [
            "(600, 64, 64, 3)\n",
            "(600,)\n"
          ]
        }
      ]
    },
    {
      "cell_type": "markdown",
      "source": [
        "###Normalize data"
      ],
      "metadata": {
        "id": "WJfFLqh7TUWF"
      }
    },
    {
      "cell_type": "code",
      "source": [
        "x_train=normalize(x_train, axis=1)\n",
        "x_test=normalize(x_test, axis=1)"
      ],
      "metadata": {
        "id": "mw8cs-LGTaOC"
      },
      "execution_count": 23,
      "outputs": []
    },
    {
      "cell_type": "markdown",
      "source": [
        "###CNN model"
      ],
      "metadata": {
        "id": "cShwBXFpHTqR"
      }
    },
    {
      "cell_type": "code",
      "source": [
        "model = Sequential()\n",
        "model.add(Conv2D(32, (3,3), input_shape=(INPUT_SIZE, INPUT_SIZE, 3)))\n",
        "model.add(Activation('relu'))\n",
        "model.add(MaxPooling2D(pool_size=(2,2)))\n",
        "\n",
        "model.add(Conv2D(32, (3,3), kernel_initializer='he_uniform'))\n",
        "model.add(Activation('relu'))\n",
        "model.add(MaxPooling2D(pool_size=(2,2)))\n",
        "\n",
        "model.add(Conv2D(64, (3,3), kernel_initializer='he_uniform'))\n",
        "model.add(Activation('relu'))\n",
        "model.add(MaxPooling2D(pool_size=(2,2)))"
      ],
      "metadata": {
        "id": "4iX02D1VHS1u"
      },
      "execution_count": 24,
      "outputs": []
    },
    {
      "cell_type": "code",
      "execution_count": 25,
      "metadata": {
        "id": "2VMHU7cvGIrl"
      },
      "outputs": [],
      "source": [
        "model.add(Flatten())\n",
        "model.add(Dense(64))\n",
        "model.add(Activation('relu'))\n",
        "model.add(Dropout(0.5))\n",
        "model.add(Dense(1))\n",
        "model.add(Activation('sigmoid'))"
      ]
    },
    {
      "cell_type": "code",
      "source": [],
      "metadata": {
        "id": "pWbs-4nBW1Qf"
      },
      "execution_count": null,
      "outputs": []
    }
  ]
}